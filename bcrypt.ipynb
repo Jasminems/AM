{
  "nbformat": 4,
  "nbformat_minor": 0,
  "metadata": {
    "colab": {
      "provenance": [],
      "authorship_tag": "ABX9TyP7xU5rpejMueI55eKDNYhJ",
      "include_colab_link": true
    },
    "kernelspec": {
      "name": "python3",
      "display_name": "Python 3"
    },
    "language_info": {
      "name": "python"
    }
  },
  "cells": [
    {
      "cell_type": "markdown",
      "metadata": {
        "id": "view-in-github",
        "colab_type": "text"
      },
      "source": [
        "<a href=\"https://colab.research.google.com/github/Jasminems/AM/blob/main/bcrypt.ipynb\" target=\"_parent\"><img src=\"https://colab.research.google.com/assets/colab-badge.svg\" alt=\"Open In Colab\"/></a>"
      ]
    },
    {
      "cell_type": "code",
      "execution_count": 9,
      "metadata": {
        "colab": {
          "base_uri": "https://localhost:8080/"
        },
        "id": "AubiadRZ-uQX",
        "outputId": "e0398735-e0f6-46e1-c305-d776e8c9082b"
      },
      "outputs": [
        {
          "output_type": "stream",
          "name": "stdout",
          "text": [
            "Requirement already satisfied: argon2-cffi in /usr/local/lib/python3.12/dist-packages (25.1.0)\n",
            "Requirement already satisfied: bcrypt in /usr/local/lib/python3.12/dist-packages (5.0.0)\n",
            "Requirement already satisfied: scrypt in /usr/local/lib/python3.12/dist-packages (0.9.4)\n",
            "Requirement already satisfied: KDF in /usr/local/lib/python3.12/dist-packages (0.3)\n",
            "Requirement already satisfied: argon2-cffi-bindings in /usr/local/lib/python3.12/dist-packages (from argon2-cffi) (25.1.0)\n",
            "Requirement already satisfied: cffi>=1.0.1 in /usr/local/lib/python3.12/dist-packages (from argon2-cffi-bindings->argon2-cffi) (2.0.0)\n",
            "Requirement already satisfied: pycparser in /usr/local/lib/python3.12/dist-packages (from cffi>=1.0.1->argon2-cffi-bindings->argon2-cffi) (2.23)\n"
          ]
        }
      ],
      "source": [
        "!pip install argon2-cffi bcrypt scrypt KDF"
      ]
    },
    {
      "cell_type": "code",
      "source": [
        "import hashlib\n",
        "import os\n",
        "\n",
        "def pbkdf2_hash(password, salt=None, iterations=100000, keylen=32):\n",
        "    if salt is None:\n",
        "        salt = os.urandom(16)\n",
        "    dk = hashlib.pbkdf2_hmac('sha256', password.encode('utf-8'), salt, iterations, dklen=keylen)\n",
        "    return salt, dk.hex()\n",
        "\n",
        "# Example usage\n",
        "password = \"mysecretpassword\"\n",
        "salt_pbkdf2, hashed_pbkdf2 = pbkdf2_hash(password)\n",
        "print(f\"PBKDF2 Hash: {hashed_pbkdf2}\")"
      ],
      "metadata": {
        "colab": {
          "base_uri": "https://localhost:8080/"
        },
        "id": "UdyYTvsi_fC0",
        "outputId": "0d277b07-8ed7-465e-c566-a35ac25ecac2"
      },
      "execution_count": 10,
      "outputs": [
        {
          "output_type": "stream",
          "name": "stdout",
          "text": [
            "PBKDF2 Hash: 8c6e170235507061aba35d68ab8585731fd7bf9fbf6afd55407469b9225ac308\n"
          ]
        }
      ]
    },
    {
      "cell_type": "code",
      "source": [
        "import bcrypt\n",
        "\n",
        "def bcrypt_hash(password):\n",
        "    hashed = bcrypt.hashpw(password.encode('utf-8'), bcrypt.gensalt())\n",
        "    return hashed.decode('utf-8')\n",
        "\n",
        "def bcrypt_verify(password, hashed_password):\n",
        "    return bcrypt.checkpw(password.encode('utf-8'), hashed_password.encode('utf-8'))\n",
        "\n",
        "# Example usage\n",
        "hashed_bcrypt = bcrypt_hash(password)\n",
        "print(f\"bcrypt Hash: {hashed_bcrypt}\")\n",
        "print(f\"bcrypt Verification: {bcrypt_verify(password, hashed_bcrypt)}\")"
      ],
      "metadata": {
        "colab": {
          "base_uri": "https://localhost:8080/"
        },
        "id": "M6zkCWB__ltu",
        "outputId": "9dc75228-27f2-46f5-f7d2-8b9bcfad0ab8"
      },
      "execution_count": 11,
      "outputs": [
        {
          "output_type": "stream",
          "name": "stdout",
          "text": [
            "bcrypt Hash: $2b$12$m/6aMDLRm21JGFVr50EvMOMVK631qAJthdRO4gp9/gn9YOelWXawW\n",
            "bcrypt Verification: True\n"
          ]
        }
      ]
    },
    {
      "cell_type": "code",
      "source": [
        "from argon2 import PasswordHasher\n",
        "\n",
        "ph = PasswordHasher()\n",
        "\n",
        "def argon2_hash(password):\n",
        "    hashed = ph.hash(password)\n",
        "    return hashed\n",
        "\n",
        "def argon2_verify(password, hashed_password):\n",
        "    try:\n",
        "        ph.verify(hashed_password, password)\n",
        "        return True\n",
        "    except Exception:\n",
        "        return False\n",
        "\n",
        "# Example usage\n",
        "hashed_argon2 = argon2_hash(password)\n",
        "print(f\"Argon2 Hash: {hashed_argon2}\")\n",
        "print(f\"Argon2 Verification: {argon2_verify(password, hashed_argon2)}\")"
      ],
      "metadata": {
        "colab": {
          "base_uri": "https://localhost:8080/"
        },
        "id": "axxNZ6SC_5Ug",
        "outputId": "29dbd32d-062d-4be5-a099-33003e45f764"
      },
      "execution_count": 12,
      "outputs": [
        {
          "output_type": "stream",
          "name": "stdout",
          "text": [
            "Argon2 Hash: $argon2id$v=19$m=65536,t=3,p=4$GIkZStMk/OrTuT4YRwEQ3g$Pv5JG/XO/vLlCbeoLixIrPXAXy537SeP0hNEt41lDgk\n",
            "Argon2 Verification: True\n"
          ]
        }
      ]
    },
    {
      "cell_type": "code",
      "source": [
        "import time\n",
        "\n",
        "password_to_test = \"anothersecretpassword\"\n",
        "\n",
        "# PBKDF2\n",
        "start_time = time.time()\n",
        "salt_pbkdf2, hashed_pbkdf2 = pbkdf2_hash(password_to_test)\n",
        "pbkdf2_time = time.time() - start_time\n",
        "print(f\"PBKDF2 Hashing Time: {pbkdf2_time:.4f} seconds\")\n",
        "\n",
        "# bcrypt\n",
        "start_time = time.time()\n",
        "hashed_bcrypt = bcrypt_hash(password_to_test)\n",
        "bcrypt_time = time.time() - start_time\n",
        "print(f\"bcrypt Hashing Time: {bcrypt_time:.4f} seconds\")\n",
        "\n",
        "# Argon2\n",
        "start_time = time.time()\n",
        "hashed_argon2 = argon2_hash(password_to_test)\n",
        "argon2_time = time.time() - start_time\n",
        "print(f\"Argon2 Hashing Time: {argon2_time:.4f} seconds\")"
      ],
      "metadata": {
        "colab": {
          "base_uri": "https://localhost:8080/"
        },
        "id": "LeDDp_LzAAVp",
        "outputId": "c8b775ba-c967-43ba-c751-98672f4261e5"
      },
      "execution_count": 13,
      "outputs": [
        {
          "output_type": "stream",
          "name": "stdout",
          "text": [
            "PBKDF2 Hashing Time: 0.1905 seconds\n",
            "bcrypt Hashing Time: 0.4877 seconds\n",
            "Argon2 Hashing Time: 0.2444 seconds\n"
          ]
        }
      ]
    },
    {
      "cell_type": "code",
      "source": [
        "pip install matplotlib"
      ],
      "metadata": {
        "colab": {
          "base_uri": "https://localhost:8080/"
        },
        "id": "O1WjJSmuE1du",
        "outputId": "f0309bee-d6df-40af-9ba3-423c0f4c8849"
      },
      "execution_count": 14,
      "outputs": [
        {
          "output_type": "stream",
          "name": "stdout",
          "text": [
            "Requirement already satisfied: matplotlib in /usr/local/lib/python3.12/dist-packages (3.10.0)\n",
            "Requirement already satisfied: contourpy>=1.0.1 in /usr/local/lib/python3.12/dist-packages (from matplotlib) (1.3.3)\n",
            "Requirement already satisfied: cycler>=0.10 in /usr/local/lib/python3.12/dist-packages (from matplotlib) (0.12.1)\n",
            "Requirement already satisfied: fonttools>=4.22.0 in /usr/local/lib/python3.12/dist-packages (from matplotlib) (4.60.1)\n",
            "Requirement already satisfied: kiwisolver>=1.3.1 in /usr/local/lib/python3.12/dist-packages (from matplotlib) (1.4.9)\n",
            "Requirement already satisfied: numpy>=1.23 in /usr/local/lib/python3.12/dist-packages (from matplotlib) (2.0.2)\n",
            "Requirement already satisfied: packaging>=20.0 in /usr/local/lib/python3.12/dist-packages (from matplotlib) (25.0)\n",
            "Requirement already satisfied: pillow>=8 in /usr/local/lib/python3.12/dist-packages (from matplotlib) (11.3.0)\n",
            "Requirement already satisfied: pyparsing>=2.3.1 in /usr/local/lib/python3.12/dist-packages (from matplotlib) (3.2.5)\n",
            "Requirement already satisfied: python-dateutil>=2.7 in /usr/local/lib/python3.12/dist-packages (from matplotlib) (2.9.0.post0)\n",
            "Requirement already satisfied: six>=1.5 in /usr/local/lib/python3.12/dist-packages (from python-dateutil>=2.7->matplotlib) (1.17.0)\n"
          ]
        }
      ]
    }
  ]
}