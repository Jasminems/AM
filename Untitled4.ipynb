{
  "nbformat": 4,
  "nbformat_minor": 0,
  "metadata": {
    "colab": {
      "provenance": [],
      "authorship_tag": "ABX9TyNVWuj+Q3/3SFKHeeHRnVSi",
      "include_colab_link": true
    },
    "kernelspec": {
      "name": "python3",
      "display_name": "Python 3"
    },
    "language_info": {
      "name": "python"
    }
  },
  "cells": [
    {
      "cell_type": "markdown",
      "metadata": {
        "id": "view-in-github",
        "colab_type": "text"
      },
      "source": [
        "<a href=\"https://colab.research.google.com/github/Jasminems/AM/blob/main/Untitled4.ipynb\" target=\"_parent\"><img src=\"https://colab.research.google.com/assets/colab-badge.svg\" alt=\"Open In Colab\"/></a>"
      ]
    },
    {
      "cell_type": "code",
      "execution_count": 1,
      "metadata": {
        "colab": {
          "base_uri": "https://localhost:8080/"
        },
        "id": "gl4q-G2FU316",
        "outputId": "852c24a4-7908-4249-d767-19d3a5c564a9"
      },
      "outputs": [
        {
          "output_type": "stream",
          "name": "stdout",
          "text": [
            "Collecting bcrypt\n",
            "  Downloading bcrypt-5.0.0-cp39-abi3-manylinux_2_34_x86_64.whl.metadata (10 kB)\n",
            "Collecting pyotp\n",
            "  Downloading pyotp-2.9.0-py3-none-any.whl.metadata (9.8 kB)\n",
            "Collecting qrcode\n",
            "  Downloading qrcode-8.2-py3-none-any.whl.metadata (17 kB)\n",
            "Downloading bcrypt-5.0.0-cp39-abi3-manylinux_2_34_x86_64.whl (278 kB)\n",
            "\u001b[2K   \u001b[90m━━━━━━━━━━━━━━━━━━━━━━━━━━━━━━━━━━━━━━━━\u001b[0m \u001b[32m278.2/278.2 kB\u001b[0m \u001b[31m5.0 MB/s\u001b[0m eta \u001b[36m0:00:00\u001b[0m\n",
            "\u001b[?25hDownloading pyotp-2.9.0-py3-none-any.whl (13 kB)\n",
            "Downloading qrcode-8.2-py3-none-any.whl (45 kB)\n",
            "\u001b[2K   \u001b[90m━━━━━━━━━━━━━━━━━━━━━━━━━━━━━━━━━━━━━━━━\u001b[0m \u001b[32m46.0/46.0 kB\u001b[0m \u001b[31m1.3 MB/s\u001b[0m eta \u001b[36m0:00:00\u001b[0m\n",
            "\u001b[?25hInstalling collected packages: qrcode, pyotp, bcrypt\n",
            "Successfully installed bcrypt-5.0.0 pyotp-2.9.0 qrcode-8.2\n"
          ]
        }
      ],
      "source": [
        "!pip install bcrypt pyotp qrcode"
      ]
    },
    {
      "cell_type": "code",
      "source": [
        "import bcrypt\n",
        "import pyotp\n",
        "import qrcode\n",
        "from io import BytesIO\n",
        "from IPython.display import display, Image\n",
        "import base64\n",
        "\n",
        "class User:\n",
        "    def __init__(self, username, password):\n",
        "        self.username = username\n",
        "        self.password_hash = self.hash_password(password)\n",
        "        self.otp_secret = pyotp.random_base32()\n",
        "\n",
        "    def hash_password(self, password):\n",
        "        # bcrypt requires byte strings\n",
        "        return bcrypt.hashpw(password.encode('utf-8'), bcrypt.gensalt())\n",
        "\n",
        "    def check_password(self, password):\n",
        "        return bcrypt.checkpw(password.encode('utf-8'), self.password_hash)\n",
        "\n",
        "    def get_otp_uri(self, app_name=\"Colab MFA\"):\n",
        "        return pyotp.totp.TOTP(self.otp_secret).provisioning_uri(\n",
        "            name=self.username,\n",
        "            issuer_name=app_name\n",
        "        )\n",
        "\n",
        "    def get_qr_code(self):\n",
        "        otp_uri = self.get_otp_uri()\n",
        "        qr_img = qrcode.make(otp_uri)\n",
        "        img_buffer = BytesIO()\n",
        "        qr_img.save(img_buffer, format=\"PNG\")\n",
        "        return img_buffer\n",
        "\n",
        "    def verify_otp(self, otp_code):\n",
        "        totp = pyotp.TOTP(self.otp_secret)\n",
        "        return totp.verify(otp_code)"
      ],
      "metadata": {
        "id": "5FG4TbqRVGc1"
      },
      "execution_count": 2,
      "outputs": []
    },
    {
      "cell_type": "code",
      "source": [
        "# --- SIMULATE USER REGISTRATION ---\n",
        "# In a real app, this user object would be stored in a database\n",
        "user_data = User(\"alice@example.com\", \"mySecurePassword123\")\n",
        "print(\"User 'alice@example.com' registered.\")\n",
        "\n",
        "# --- OTP SETUP ---\n",
        "print(\"Generating QR code for OTP setup...\")\n",
        "qr_buffer = user_data.get_qr_code()\n",
        "qr_base64 = base64.b64encode(qr_buffer.getvalue()).decode('utf-8')\n",
        "display(Image(data=base64.b64decode(qr_base64)))\n",
        "\n",
        "print(\"\\nScan this QR code with an authenticator app (e.g., Google Authenticator, ).\")\n",
        "print(\"The OTP Secret Key is:\", user_data.otp_secret)"
      ],
      "metadata": {
        "colab": {
          "base_uri": "https://localhost:8080/",
          "height": 594
        },
        "id": "C33zwInkWB8B",
        "outputId": "622f3090-0ba1-4cf8-adaa-f4ebfbc098af"
      },
      "execution_count": 4,
      "outputs": [
        {
          "output_type": "stream",
          "name": "stdout",
          "text": [
            "User 'alice@example.com' registered.\n",
            "Generating QR code for OTP setup...\n"
          ]
        },
        {
          "output_type": "display_data",
          "data": {
            "image/png": "[encoded data removed]",
            "text/plain": [
              "<IPython.core.display.Image object>"
            ]
          },
          "metadata": {}
        },
        {
          "output_type": "stream",
          "name": "stdout",
          "text": [
            "\n",
            "Scan this QR code with an authenticator app (e.g., Google Authenticator, ).\n",
            "The OTP Secret Key is: 72BYVLVXCASRKYXUCVOS63ECYH34ANLP\n"
          ]
        }
      ]
    },
    {
      "cell_type": "code",
      "source": [
        "# --- SIMULATE USER LOGIN ---\n",
        "print(\"--- User Login ---\")\n",
        "entered_password = input(\"Enter your password: \")\n",
        "\n",
        "# First factor: Verify password using bcrypt\n",
        "if user_data.check_password(entered_password):\n",
        "    print(\"Password correct. Proceeding to second factor (OTP).\")\n",
        "\n",
        "    # Second factor: Verify OTP using pyotp\n",
        "    entered_otp = input(\"Enter the 6-digit OTP from your authenticator app: \")\n",
        "    if user_data.verify_otp(entered_otp):\n",
        "        print(\"OTP verified successfully. Login complete!\")\n",
        "    else:\n",
        "        print(\"Invalid OTP. Login failed.\")\n",
        "else:\n",
        "    print(\"Incorrect password. Login failed.\")"
      ],
      "metadata": {
        "colab": {
          "base_uri": "https://localhost:8080/"
        },
        "id": "9nrcXZslWc9j",
        "outputId": "69082a1e-6381-436f-987e-d9b677273dbc"
      },
      "execution_count": 8,
      "outputs": [
        {
          "output_type": "stream",
          "name": "stdout",
          "text": [
            "--- User Login ---\n",
            "Enter your password: mySecurePassword123\n",
            "Password correct. Proceeding to second factor (OTP).\n",
            "Enter the 6-digit OTP from your authenticator app: 559988\n",
            "OTP verified successfully. Login complete!\n"
          ]
        }
      ]
    }
  ]
}