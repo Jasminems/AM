{
  "nbformat": 4,
  "nbformat_minor": 0,
  "metadata": {
    "colab": {
      "provenance": [],
      "authorship_tag": "ABX9TyMWk2yCqn7t+EwFW1rybtgx",
      "include_colab_link": true
    },
    "kernelspec": {
      "name": "python3",
      "display_name": "Python 3"
    },
    "language_info": {
      "name": "python"
    }
  },
  "cells": [
    {
      "cell_type": "markdown",
      "metadata": {
        "id": "view-in-github",
        "colab_type": "text"
      },
      "source": [
        "<a href=\"https://colab.research.google.com/github/Jasminems/AM/blob/main/Untitled3.ipynb\" target=\"_parent\"><img src=\"https://colab.research.google.com/assets/colab-badge.svg\" alt=\"Open In Colab\"/></a>"
      ]
    },
    {
      "cell_type": "code",
      "execution_count": 10,
      "metadata": {
        "colab": {
          "base_uri": "https://localhost:8080/"
        },
        "id": "Y4xWCIgMNiwf",
        "outputId": "00d40442-73ab-411f-fbaf-50f23bd8239a"
      },
      "outputs": [
        {
          "output_type": "stream",
          "name": "stdout",
          "text": [
            "Requirement already satisfied: bcrypt in /usr/local/lib/python3.12/dist-packages (5.0.0)\n"
          ]
        }
      ],
      "source": [
        "!pip install bcrypt"
      ]
    },
    {
      "cell_type": "code",
      "source": [
        "import bcrypt\n",
        "\n",
        "# 1. Define a password\n",
        "password = b\"mysecretpassword\"\n",
        "\n",
        "# 2. Hash the password\n",
        "# bcrypt automatically generates a salt and includes it in the hash.\n",
        "# The `cost` factor can be adjusted to increase the time it takes to compute the hash,\n",
        "# making brute-force attacks more difficult. A cost of 12 is a common starting point.\n",
        "hashed = bcrypt.hashpw(password, bcrypt.gensalt(rounds=12))\n",
        "\n",
        "print(f\"Hashed password: {hashed}\")\n",
        "\n",
        "# 3. Verify the password\n",
        "# When a user logs in, you compare their entered password with the stored hash.\n",
        "# bcrypt.checkpw() handles the salting and hashing automatically.\n",
        "# A correct password should return `True`.\n",
        "login_password = b\"mysecretpassword\"\n",
        "is_valid = bcrypt.checkpw(login_password, hashed)\n",
        "print(f\"Is the login password correct? {is_valid}\")\n",
        "\n",
        "# An incorrect password should return `False`.\n",
        "incorrect_password = b\"wrongpassword\"\n",
        "is_invalid = bcrypt.checkpw(incorrect_password, hashed)\n",
        "print(f\"Is a wrong password correct? {is_invalid}\")\n"
      ],
      "metadata": {
        "colab": {
          "base_uri": "https://localhost:8080/"
        },
        "id": "SRs50MVrNpWt",
        "outputId": "34228c02-48c8-4aea-a5c9-1eed5aed25c0"
      },
      "execution_count": 11,
      "outputs": [
        {
          "output_type": "stream",
          "name": "stdout",
          "text": [
            "Hashed password: b'$2b$12$JaUP7QFdVoO1FLb0DX8gBeXrPDpnIRWpMk./jjdvm5cRmkigEjWCu'\n",
            "Is the login password correct? True\n",
            "Is a wrong password correct? False\n"
          ]
        }
      ]
    },
    {
      "cell_type": "code",
      "source": [
        "!pip install pyotp qrcode"
      ],
      "metadata": {
        "colab": {
          "base_uri": "https://localhost:8080/"
        },
        "id": "zqPLsAhhN0az",
        "outputId": "fab69771-7741-486a-e8a1-b0692bc239ff"
      },
      "execution_count": 12,
      "outputs": [
        {
          "output_type": "stream",
          "name": "stdout",
          "text": [
            "Requirement already satisfied: pyotp in /usr/local/lib/python3.12/dist-packages (2.9.0)\n",
            "Requirement already satisfied: qrcode in /usr/local/lib/python3.12/dist-packages (8.2)\n"
          ]
        }
      ]
    },
    {
      "cell_type": "code",
      "source": [
        "import pyotp\n",
        "import qrcode\n",
        "import io\n",
        "from base64 import b64encode\n",
        "from IPython.display import display, Image\n",
        "\n",
        "# 1. Generate a secret key for the user\n",
        "# In a real application, this key would be stored securely in a database.\n",
        "secret_key = pyotp.random_base32()\n",
        "\n",
        "# 2. Generate a provisioning URI and a QR code\n",
        "# The URI contains the secret key, user details, and issuer name.\n",
        "# The QR code makes it easy for the user to scan the details into their authenticator app.\n",
        "provisioning_uri = pyotp.totp.TOTP(secret_key).provisioning_uri(\n",
        "    name=\"test_user@example.com\",\n",
        "    issuer_name=\"Colab App\"\n",
        ")\n",
        "\n",
        "# Generate a QR code image and display it\n",
        "img = qrcode.make(provisioning_uri)\n",
        "buf = io.BytesIO()\n",
        "img.save(buf, format='PNG')\n",
        "qr_code_base64 = b64encode(buf.getvalue()).decode()\n",
        "print(\"Scan this QR code with your authenticator app (e.g., Google Authenticator):\")\n",
        "display(Image(data=f'data:image/png;base64,{qr_code_base64}'))\n",
        "\n",
        "# 3. Verify the user's input\n",
        "# After the user scans the QR code, they will provide a code from their app.\n",
        "# You would normally get this from a web form.\n",
        "# For this example, we will simulate asking the user for the code.\n",
        "user_entered_otp = input(\"Enter the 6-digit code from your authenticator app: \")\n",
        "\n",
        "totp = pyotp.TOTP(secret_key)\n",
        "is_otp_valid = totp.verify(user_entered_otp)\n",
        "\n",
        "print(f\"Is the MFA code correct? {is_otp_valid}\")"
      ],
      "metadata": {
        "colab": {
          "base_uri": "https://localhost:8080/",
          "height": 908
        },
        "id": "soqHB1SRN8mh",
        "outputId": "6e960576-24cf-4aba-cfbd-944f6cadb6b3"
      },
      "execution_count": null,
      "outputs": [
        {
          "output_type": "stream",
          "name": "stdout",
          "text": [
            "Scan this QR code with your authenticator app (e.g., Google Authenticator):\n"
          ]
        },
        {
          "output_type": "error",
          "ename": "FileNotFoundError",
          "evalue": "No such file or directory: 'data:image/png;base64,iVBORw0KGgoAAAANSUhEUgAAAeoAAAHqAQAAAADjFjCXAAAEUUlEQVR4nO2dwY3rOAyGP64NzNEBUsCUInewNb2SpgO7lBQwgHQcQAb3QMmS5xhnkc2GPMV++qARQJDiT8lPlBO2/nWGBscdd9xxxx133HHHH4tLsRGZkwiwCeulDdtEZjaBVIfOj5vd8TfFg6qqRoApYw4XbqP9o8gFdAFkZlBVVT3iJ2d3/E3xVMKX/pEPlTl9qMhnBtIIMGgLfSIyPnh2x98LH389C9O3EL6uKICE5UeAbQQ+VB48u+OOA+iSPhSmH2G9bAIMSohAiJvo8u/O7vh74DXWTQokgOlbWAUkxA1I16zrJVqGlfAFva780mt3/Fl48brVcueAhNuHSvi6ZiFdLaVKuI1ZQrxmge2QZV967Y4/CzevO7TFNoEpo+tlQEnVzezxOPS11+74s3BMBwmxaCOdfAKD6jJlG1J+xfLOtJblpdfu+LPw4lKqmeZXBM3ApGpRb5maYw4l2LnXOX6/dZpvKVWBEAct/hcpEc7GTeqxzvHH7uvyqCRsN6ewiYIiJeGCkgRCxHsTjp+xlmFbXCPEocQ1S72/oUE91jl+Fpc5jbavk3n6saJVlzQicx1oedUqjCaf/Bf+eMdfDt9V4jyyzoOyyqCCud4mul6iCtP3iDVjZ6A8PmB2x98Tr/u6dFWYIhIUtLheLMUFDCpM26hBN4FpqB3Zl16748/Cq15nhWzd0plyUh87vYSpDC4a3kuv3fFn4Z1yYnrdMqm5WTGThXvRpFeOX3rtjj8L71Xi0pZQrV2KQyFrol2kqnnudY7fbVX9reHLXM9SavW6hfLO3HFx5cTxc9afR6/bt9IC0z3q2davKXce6xw/ZX01cejvm3IMe/d1ynS1hsc6x++3VjQc+vvDsXyodUWLeh7rHL/fuo6YVQ4RSlxT7ZWT/VdxQvc6x++2Er5iOVpn/ldOOjXXg+7gk3qGdfyctaTZpOKSV4EiC8c6upQUXk04fso6vW6pu7muuGgCcYmEqq4SO/6g7r91Wr9FSWM2/SQsG8A2KmnMEha1R5gGP1/n+Bmret0uAe9SnfUmmmhSGxRtw+exzvH7rMuwTS8u2sjeB9P9aF3rYbjXOX63ddVE6TnsRwCakELThnf5zr3O8XttvzdRtmrC9A0kQUMEgSGz/h3tCF45VZekXpx46bU7/iy8K0vrbYnc3RHrOxJxv5QY8X2d42dMj9ZfhYWu8dpOmnRHO93rHL/HLMPWyzdDxjQU00uuudygSFeVEC8C6Zpp4sprr93xJ+NFKikvVW8jIp8/Yl9NXC+b6J/P1iXLyPzA2R1/M7zrw/ZnhKfD9YhdOfmFeYZ1/CG4ff413Eb0z2WzWCcz+31Yj3WOn8d/fyEW2ITwVX5LWEqYk3Abs8JmMovfTHT8fvv9rU4lXYDpR5Q0oqsMubxjE8IyqISvi+t1jp+xrg/WfYNY21n2Y5eiHoHyfZ3j95v4/17nuOOOO+644447/r/A/wGqCxWu041GeAAAAABJRU5ErkJggg=='",
          "traceback": [
            "\u001b[0;31m---------------------------------------------------------------------------\u001b[0m",
            "\u001b[0;31mTypeError\u001b[0m                                 Traceback (most recent call last)",
            "\u001b[0;32m/usr/local/lib/python3.12/dist-packages/IPython/core/display.py\u001b[0m in \u001b[0;36m_data_and_metadata\u001b[0;34m(self, always_both)\u001b[0m\n\u001b[1;32m   1299\u001b[0m         \u001b[0;32mtry\u001b[0m\u001b[0;34m:\u001b[0m\u001b[0;34m\u001b[0m\u001b[0;34m\u001b[0m\u001b[0m\n\u001b[0;32m-> 1300\u001b[0;31m             \u001b[0mb64_data\u001b[0m \u001b[0;34m=\u001b[0m \u001b[0mb2a_base64\u001b[0m\u001b[0;34m(\u001b[0m\u001b[0mself\u001b[0m\u001b[0;34m.\u001b[0m\u001b[0mdata\u001b[0m\u001b[0;34m)\u001b[0m\u001b[0;34m.\u001b[0m\u001b[0mdecode\u001b[0m\u001b[0;34m(\u001b[0m\u001b[0;34m'ascii'\u001b[0m\u001b[0;34m)\u001b[0m\u001b[0;34m\u001b[0m\u001b[0;34m\u001b[0m\u001b[0m\n\u001b[0m\u001b[1;32m   1301\u001b[0m         \u001b[0;32mexcept\u001b[0m \u001b[0mTypeError\u001b[0m\u001b[0;34m:\u001b[0m\u001b[0;34m\u001b[0m\u001b[0;34m\u001b[0m\u001b[0m\n",
            "\u001b[0;31mTypeError\u001b[0m: a bytes-like object is required, not 'str'",
            "\nDuring handling of the above exception, another exception occurred:\n",
            "\u001b[0;31mFileNotFoundError\u001b[0m                         Traceback (most recent call last)",
            "\u001b[0;32m/usr/local/lib/python3.12/dist-packages/IPython/core/formatters.py\u001b[0m in \u001b[0;36m__call__\u001b[0;34m(self, obj, include, exclude)\u001b[0m\n\u001b[1;32m    968\u001b[0m \u001b[0;34m\u001b[0m\u001b[0m\n\u001b[1;32m    969\u001b[0m             \u001b[0;32mif\u001b[0m \u001b[0mmethod\u001b[0m \u001b[0;32mis\u001b[0m \u001b[0;32mnot\u001b[0m \u001b[0;32mNone\u001b[0m\u001b[0;34m:\u001b[0m\u001b[0;34m\u001b[0m\u001b[0;34m\u001b[0m\u001b[0m\n\u001b[0;32m--> 970\u001b[0;31m                 \u001b[0;32mreturn\u001b[0m \u001b[0mmethod\u001b[0m\u001b[0;34m(\u001b[0m\u001b[0minclude\u001b[0m\u001b[0;34m=\u001b[0m\u001b[0minclude\u001b[0m\u001b[0;34m,\u001b[0m \u001b[0mexclude\u001b[0m\u001b[0;34m=\u001b[0m\u001b[0mexclude\u001b[0m\u001b[0;34m)\u001b[0m\u001b[0;34m\u001b[0m\u001b[0;34m\u001b[0m\u001b[0m\n\u001b[0m\u001b[1;32m    971\u001b[0m             \u001b[0;32mreturn\u001b[0m \u001b[0;32mNone\u001b[0m\u001b[0;34m\u001b[0m\u001b[0;34m\u001b[0m\u001b[0m\n\u001b[1;32m    972\u001b[0m         \u001b[0;32melse\u001b[0m\u001b[0;34m:\u001b[0m\u001b[0;34m\u001b[0m\u001b[0;34m\u001b[0m\u001b[0m\n",
            "\u001b[0;32m/usr/local/lib/python3.12/dist-packages/IPython/core/display.py\u001b[0m in \u001b[0;36m_repr_mimebundle_\u001b[0;34m(self, include, exclude)\u001b[0m\n\u001b[1;32m   1288\u001b[0m         \u001b[0;32mif\u001b[0m \u001b[0mself\u001b[0m\u001b[0;34m.\u001b[0m\u001b[0membed\u001b[0m\u001b[0;34m:\u001b[0m\u001b[0;34m\u001b[0m\u001b[0;34m\u001b[0m\u001b[0m\n\u001b[1;32m   1289\u001b[0m             \u001b[0mmimetype\u001b[0m \u001b[0;34m=\u001b[0m \u001b[0mself\u001b[0m\u001b[0;34m.\u001b[0m\u001b[0m_mimetype\u001b[0m\u001b[0;34m\u001b[0m\u001b[0;34m\u001b[0m\u001b[0m\n\u001b[0;32m-> 1290\u001b[0;31m             \u001b[0mdata\u001b[0m\u001b[0;34m,\u001b[0m \u001b[0mmetadata\u001b[0m \u001b[0;34m=\u001b[0m \u001b[0mself\u001b[0m\u001b[0;34m.\u001b[0m\u001b[0m_data_and_metadata\u001b[0m\u001b[0;34m(\u001b[0m\u001b[0malways_both\u001b[0m\u001b[0;34m=\u001b[0m\u001b[0;32mTrue\u001b[0m\u001b[0;34m)\u001b[0m\u001b[0;34m\u001b[0m\u001b[0;34m\u001b[0m\u001b[0m\n\u001b[0m\u001b[1;32m   1291\u001b[0m             \u001b[0;32mif\u001b[0m \u001b[0mmetadata\u001b[0m\u001b[0;34m:\u001b[0m\u001b[0;34m\u001b[0m\u001b[0;34m\u001b[0m\u001b[0m\n\u001b[1;32m   1292\u001b[0m                 \u001b[0mmetadata\u001b[0m \u001b[0;34m=\u001b[0m \u001b[0;34m{\u001b[0m\u001b[0mmimetype\u001b[0m\u001b[0;34m:\u001b[0m \u001b[0mmetadata\u001b[0m\u001b[0;34m}\u001b[0m\u001b[0;34m\u001b[0m\u001b[0;34m\u001b[0m\u001b[0m\n",
            "\u001b[0;32m/usr/local/lib/python3.12/dist-packages/IPython/core/display.py\u001b[0m in \u001b[0;36m_data_and_metadata\u001b[0;34m(self, always_both)\u001b[0m\n\u001b[1;32m   1300\u001b[0m             \u001b[0mb64_data\u001b[0m \u001b[0;34m=\u001b[0m \u001b[0mb2a_base64\u001b[0m\u001b[0;34m(\u001b[0m\u001b[0mself\u001b[0m\u001b[0;34m.\u001b[0m\u001b[0mdata\u001b[0m\u001b[0;34m)\u001b[0m\u001b[0;34m.\u001b[0m\u001b[0mdecode\u001b[0m\u001b[0;34m(\u001b[0m\u001b[0;34m'ascii'\u001b[0m\u001b[0;34m)\u001b[0m\u001b[0;34m\u001b[0m\u001b[0;34m\u001b[0m\u001b[0m\n\u001b[1;32m   1301\u001b[0m         \u001b[0;32mexcept\u001b[0m \u001b[0mTypeError\u001b[0m\u001b[0;34m:\u001b[0m\u001b[0;34m\u001b[0m\u001b[0;34m\u001b[0m\u001b[0m\n\u001b[0;32m-> 1302\u001b[0;31m             raise FileNotFoundError(\n\u001b[0m\u001b[1;32m   1303\u001b[0m                 \"No such file or directory: '%s'\" % (self.data))\n\u001b[1;32m   1304\u001b[0m         \u001b[0mmd\u001b[0m \u001b[0;34m=\u001b[0m \u001b[0;34m{\u001b[0m\u001b[0;34m}\u001b[0m\u001b[0;34m\u001b[0m\u001b[0;34m\u001b[0m\u001b[0m\n",
            "\u001b[0;31mFileNotFoundError\u001b[0m: No such file or directory: 'data:image/png;base64,iVBORw0KGgoAAAANSUhEUgAAAeoAAAHqAQAAAADjFjCXAAAEUUlEQVR4nO2dwY3rOAyGP64NzNEBUsCUInewNb2SpgO7lBQwgHQcQAb3QMmS5xhnkc2GPMV++qARQJDiT8lPlBO2/nWGBscdd9xxxx133HHHH4tLsRGZkwiwCeulDdtEZjaBVIfOj5vd8TfFg6qqRoApYw4XbqP9o8gFdAFkZlBVVT3iJ2d3/E3xVMKX/pEPlTl9qMhnBtIIMGgLfSIyPnh2x98LH389C9O3EL6uKICE5UeAbQQ+VB48u+OOA+iSPhSmH2G9bAIMSohAiJvo8u/O7vh74DXWTQokgOlbWAUkxA1I16zrJVqGlfAFva780mt3/Fl48brVcueAhNuHSvi6ZiFdLaVKuI1ZQrxmge2QZV967Y4/CzevO7TFNoEpo+tlQEnVzezxOPS11+74s3BMBwmxaCOdfAKD6jJlG1J+xfLOtJblpdfu+LPw4lKqmeZXBM3ApGpRb5maYw4l2LnXOX6/dZpvKVWBEAct/hcpEc7GTeqxzvHH7uvyqCRsN6ewiYIiJeGCkgRCxHsTjp+xlmFbXCPEocQ1S72/oUE91jl+Fpc5jbavk3n6saJVlzQicx1oedUqjCaf/Bf+eMdfDt9V4jyyzoOyyqCCud4mul6iCtP3iDVjZ6A8PmB2x98Tr/u6dFWYIhIUtLheLMUFDCpM26hBN4FpqB3Zl16748/Cq15nhWzd0plyUh87vYSpDC4a3kuv3fFn4Z1yYnrdMqm5WTGThXvRpFeOX3rtjj8L71Xi0pZQrV2KQyFrol2kqnnudY7fbVX9reHLXM9SavW6hfLO3HFx5cTxc9afR6/bt9IC0z3q2davKXce6xw/ZX01cejvm3IMe/d1ynS1hsc6x++3VjQc+vvDsXyodUWLeh7rHL/fuo6YVQ4RSlxT7ZWT/VdxQvc6x++2Er5iOVpn/ldOOjXXg+7gk3qGdfyctaTZpOKSV4EiC8c6upQUXk04fso6vW6pu7muuGgCcYmEqq4SO/6g7r91Wr9FSWM2/SQsG8A2KmnMEha1R5gGP1/n+Bmret0uAe9SnfUmmmhSGxRtw+exzvH7rMuwTS8u2sjeB9P9aF3rYbjXOX63ddVE6TnsRwCakELThnf5zr3O8XttvzdRtmrC9A0kQUMEgSGz/h3tCF45VZekXpx46bU7/iy8K0vrbYnc3RHrOxJxv5QY8X2d42dMj9ZfhYWu8dpOmnRHO93rHL/HLMPWyzdDxjQU00uuudygSFeVEC8C6Zpp4sprr93xJ+NFKikvVW8jIp8/Yl9NXC+b6J/P1iXLyPzA2R1/M7zrw/ZnhKfD9YhdOfmFeYZ1/CG4ff413Eb0z2WzWCcz+31Yj3WOn8d/fyEW2ITwVX5LWEqYk..."
          ]
        },
        {
          "output_type": "error",
          "ename": "FileNotFoundError",
          "evalue": "No such file or directory: 'data:image/png;base64,iVBORw0KGgoAAAANSUhEUgAAAeoAAAHqAQAAAADjFjCXAAAEUUlEQVR4nO2dwY3rOAyGP64NzNEBUsCUInewNb2SpgO7lBQwgHQcQAb3QMmS5xhnkc2GPMV++qARQJDiT8lPlBO2/nWGBscdd9xxxx133HHHH4tLsRGZkwiwCeulDdtEZjaBVIfOj5vd8TfFg6qqRoApYw4XbqP9o8gFdAFkZlBVVT3iJ2d3/E3xVMKX/pEPlTl9qMhnBtIIMGgLfSIyPnh2x98LH389C9O3EL6uKICE5UeAbQQ+VB48u+OOA+iSPhSmH2G9bAIMSohAiJvo8u/O7vh74DXWTQokgOlbWAUkxA1I16zrJVqGlfAFva780mt3/Fl48brVcueAhNuHSvi6ZiFdLaVKuI1ZQrxmge2QZV967Y4/CzevO7TFNoEpo+tlQEnVzezxOPS11+74s3BMBwmxaCOdfAKD6jJlG1J+xfLOtJblpdfu+LPw4lKqmeZXBM3ApGpRb5maYw4l2LnXOX6/dZpvKVWBEAct/hcpEc7GTeqxzvHH7uvyqCRsN6ewiYIiJeGCkgRCxHsTjp+xlmFbXCPEocQ1S72/oUE91jl+Fpc5jbavk3n6saJVlzQicx1oedUqjCaf/Bf+eMdfDt9V4jyyzoOyyqCCud4mul6iCtP3iDVjZ6A8PmB2x98Tr/u6dFWYIhIUtLheLMUFDCpM26hBN4FpqB3Zl16748/Cq15nhWzd0plyUh87vYSpDC4a3kuv3fFn4Z1yYnrdMqm5WTGThXvRpFeOX3rtjj8L71Xi0pZQrV2KQyFrol2kqnnudY7fbVX9reHLXM9SavW6hfLO3HFx5cTxc9afR6/bt9IC0z3q2davKXce6xw/ZX01cejvm3IMe/d1ynS1hsc6x++3VjQc+vvDsXyodUWLeh7rHL/fuo6YVQ4RSlxT7ZWT/VdxQvc6x++2Er5iOVpn/ldOOjXXg+7gk3qGdfyctaTZpOKSV4EiC8c6upQUXk04fso6vW6pu7muuGgCcYmEqq4SO/6g7r91Wr9FSWM2/SQsG8A2KmnMEha1R5gGP1/n+Bmret0uAe9SnfUmmmhSGxRtw+exzvH7rMuwTS8u2sjeB9P9aF3rYbjXOX63ddVE6TnsRwCakELThnf5zr3O8XttvzdRtmrC9A0kQUMEgSGz/h3tCF45VZekXpx46bU7/iy8K0vrbYnc3RHrOxJxv5QY8X2d42dMj9ZfhYWu8dpOmnRHO93rHL/HLMPWyzdDxjQU00uuudygSFeVEC8C6Zpp4sprr93xJ+NFKikvVW8jIp8/Yl9NXC+b6J/P1iXLyPzA2R1/M7zrw/ZnhKfD9YhdOfmFeYZ1/CG4ff413Eb0z2WzWCcz+31Yj3WOn8d/fyEW2ITwVX5LWEqYk3Abs8JmMovfTHT8fvv9rU4lXYDpR5Q0oqsMubxjE8IyqISvi+t1jp+xrg/WfYNY21n2Y5eiHoHyfZ3j95v4/17nuOOOO+644447/r/A/wGqCxWu041GeAAAAABJRU5ErkJggg=='",
          "traceback": [
            "\u001b[0;31m---------------------------------------------------------------------------\u001b[0m",
            "\u001b[0;31mTypeError\u001b[0m                                 Traceback (most recent call last)",
            "\u001b[0;32m/usr/local/lib/python3.12/dist-packages/IPython/core/display.py\u001b[0m in \u001b[0;36m_data_and_metadata\u001b[0;34m(self, always_both)\u001b[0m\n\u001b[1;32m   1299\u001b[0m         \u001b[0;32mtry\u001b[0m\u001b[0;34m:\u001b[0m\u001b[0;34m\u001b[0m\u001b[0;34m\u001b[0m\u001b[0m\n\u001b[0;32m-> 1300\u001b[0;31m             \u001b[0mb64_data\u001b[0m \u001b[0;34m=\u001b[0m \u001b[0mb2a_base64\u001b[0m\u001b[0;34m(\u001b[0m\u001b[0mself\u001b[0m\u001b[0;34m.\u001b[0m\u001b[0mdata\u001b[0m\u001b[0;34m)\u001b[0m\u001b[0;34m.\u001b[0m\u001b[0mdecode\u001b[0m\u001b[0;34m(\u001b[0m\u001b[0;34m'ascii'\u001b[0m\u001b[0;34m)\u001b[0m\u001b[0;34m\u001b[0m\u001b[0;34m\u001b[0m\u001b[0m\n\u001b[0m\u001b[1;32m   1301\u001b[0m         \u001b[0;32mexcept\u001b[0m \u001b[0mTypeError\u001b[0m\u001b[0;34m:\u001b[0m\u001b[0;34m\u001b[0m\u001b[0;34m\u001b[0m\u001b[0m\n",
            "\u001b[0;31mTypeError\u001b[0m: a bytes-like object is required, not 'str'",
            "\nDuring handling of the above exception, another exception occurred:\n",
            "\u001b[0;31mFileNotFoundError\u001b[0m                         Traceback (most recent call last)",
            "\u001b[0;32m/usr/local/lib/python3.12/dist-packages/IPython/core/formatters.py\u001b[0m in \u001b[0;36m__call__\u001b[0;34m(self, obj)\u001b[0m\n\u001b[1;32m    343\u001b[0m             \u001b[0mmethod\u001b[0m \u001b[0;34m=\u001b[0m \u001b[0mget_real_method\u001b[0m\u001b[0;34m(\u001b[0m\u001b[0mobj\u001b[0m\u001b[0;34m,\u001b[0m \u001b[0mself\u001b[0m\u001b[0;34m.\u001b[0m\u001b[0mprint_method\u001b[0m\u001b[0;34m)\u001b[0m\u001b[0;34m\u001b[0m\u001b[0;34m\u001b[0m\u001b[0m\n\u001b[1;32m    344\u001b[0m             \u001b[0;32mif\u001b[0m \u001b[0mmethod\u001b[0m \u001b[0;32mis\u001b[0m \u001b[0;32mnot\u001b[0m \u001b[0;32mNone\u001b[0m\u001b[0;34m:\u001b[0m\u001b[0;34m\u001b[0m\u001b[0;34m\u001b[0m\u001b[0m\n\u001b[0;32m--> 345\u001b[0;31m                 \u001b[0;32mreturn\u001b[0m \u001b[0mmethod\u001b[0m\u001b[0;34m(\u001b[0m\u001b[0;34m)\u001b[0m\u001b[0;34m\u001b[0m\u001b[0;34m\u001b[0m\u001b[0m\n\u001b[0m\u001b[1;32m    346\u001b[0m             \u001b[0;32mreturn\u001b[0m \u001b[0;32mNone\u001b[0m\u001b[0;34m\u001b[0m\u001b[0;34m\u001b[0m\u001b[0m\n\u001b[1;32m    347\u001b[0m         \u001b[0;32melse\u001b[0m\u001b[0;34m:\u001b[0m\u001b[0;34m\u001b[0m\u001b[0;34m\u001b[0m\u001b[0m\n",
            "\u001b[0;32m/usr/local/lib/python3.12/dist-packages/IPython/core/display.py\u001b[0m in \u001b[0;36m_repr_png_\u001b[0;34m(self)\u001b[0m\n\u001b[1;32m   1318\u001b[0m     \u001b[0;32mdef\u001b[0m \u001b[0m_repr_png_\u001b[0m\u001b[0;34m(\u001b[0m\u001b[0mself\u001b[0m\u001b[0;34m)\u001b[0m\u001b[0;34m:\u001b[0m\u001b[0;34m\u001b[0m\u001b[0;34m\u001b[0m\u001b[0m\n\u001b[1;32m   1319\u001b[0m         \u001b[0;32mif\u001b[0m \u001b[0mself\u001b[0m\u001b[0;34m.\u001b[0m\u001b[0membed\u001b[0m \u001b[0;32mand\u001b[0m \u001b[0mself\u001b[0m\u001b[0;34m.\u001b[0m\u001b[0mformat\u001b[0m \u001b[0;34m==\u001b[0m \u001b[0mself\u001b[0m\u001b[0;34m.\u001b[0m\u001b[0m_FMT_PNG\u001b[0m\u001b[0;34m:\u001b[0m\u001b[0;34m\u001b[0m\u001b[0;34m\u001b[0m\u001b[0m\n\u001b[0;32m-> 1320\u001b[0;31m             \u001b[0;32mreturn\u001b[0m \u001b[0mself\u001b[0m\u001b[0;34m.\u001b[0m\u001b[0m_data_and_metadata\u001b[0m\u001b[0;34m(\u001b[0m\u001b[0;34m)\u001b[0m\u001b[0;34m\u001b[0m\u001b[0;34m\u001b[0m\u001b[0m\n\u001b[0m\u001b[1;32m   1321\u001b[0m \u001b[0;34m\u001b[0m\u001b[0m\n\u001b[1;32m   1322\u001b[0m     \u001b[0;32mdef\u001b[0m \u001b[0m_repr_jpeg_\u001b[0m\u001b[0;34m(\u001b[0m\u001b[0mself\u001b[0m\u001b[0;34m)\u001b[0m\u001b[0;34m:\u001b[0m\u001b[0;34m\u001b[0m\u001b[0;34m\u001b[0m\u001b[0m\n",
            "\u001b[0;32m/usr/local/lib/python3.12/dist-packages/IPython/core/display.py\u001b[0m in \u001b[0;36m_data_and_metadata\u001b[0;34m(self, always_both)\u001b[0m\n\u001b[1;32m   1300\u001b[0m             \u001b[0mb64_data\u001b[0m \u001b[0;34m=\u001b[0m \u001b[0mb2a_base64\u001b[0m\u001b[0;34m(\u001b[0m\u001b[0mself\u001b[0m\u001b[0;34m.\u001b[0m\u001b[0mdata\u001b[0m\u001b[0;34m)\u001b[0m\u001b[0;34m.\u001b[0m\u001b[0mdecode\u001b[0m\u001b[0;34m(\u001b[0m\u001b[0;34m'ascii'\u001b[0m\u001b[0;34m)\u001b[0m\u001b[0;34m\u001b[0m\u001b[0;34m\u001b[0m\u001b[0m\n\u001b[1;32m   1301\u001b[0m         \u001b[0;32mexcept\u001b[0m \u001b[0mTypeError\u001b[0m\u001b[0;34m:\u001b[0m\u001b[0;34m\u001b[0m\u001b[0;34m\u001b[0m\u001b[0m\n\u001b[0;32m-> 1302\u001b[0;31m             raise FileNotFoundError(\n\u001b[0m\u001b[1;32m   1303\u001b[0m                 \"No such file or directory: '%s'\" % (self.data))\n\u001b[1;32m   1304\u001b[0m         \u001b[0mmd\u001b[0m \u001b[0;34m=\u001b[0m \u001b[0;34m{\u001b[0m\u001b[0;34m}\u001b[0m\u001b[0;34m\u001b[0m\u001b[0;34m\u001b[0m\u001b[0m\n",
            "\u001b[0;31mFileNotFoundError\u001b[0m: No such file or directory: 'data:image/png;base64,iVBORw0KGgoAAAANSUhEUgAAAeoAAAHqAQAAAADjFjCXAAAEUUlEQVR4nO2dwY3rOAyGP64NzNEBUsCUInewNb2SpgO7lBQwgHQcQAb3QMmS5xhnkc2GPMV++qARQJDiT8lPlBO2/nWGBscdd9xxxx133HHHH4tLsRGZkwiwCeulDdtEZjaBVIfOj5vd8TfFg6qqRoApYw4XbqP9o8gFdAFkZlBVVT3iJ2d3/E3xVMKX/pEPlTl9qMhnBtIIMGgLfSIyPnh2x98LH389C9O3EL6uKICE5UeAbQQ+VB48u+OOA+iSPhSmH2G9bAIMSohAiJvo8u/O7vh74DXWTQokgOlbWAUkxA1I16zrJVqGlfAFva780mt3/Fl48brVcueAhNuHSvi6ZiFdLaVKuI1ZQrxmge2QZV967Y4/CzevO7TFNoEpo+tlQEnVzezxOPS11+74s3BMBwmxaCOdfAKD6jJlG1J+xfLOtJblpdfu+LPw4lKqmeZXBM3ApGpRb5maYw4l2LnXOX6/dZpvKVWBEAct/hcpEc7GTeqxzvHH7uvyqCRsN6ewiYIiJeGCkgRCxHsTjp+xlmFbXCPEocQ1S72/oUE91jl+Fpc5jbavk3n6saJVlzQicx1oedUqjCaf/Bf+eMdfDt9V4jyyzoOyyqCCud4mul6iCtP3iDVjZ6A8PmB2x98Tr/u6dFWYIhIUtLheLMUFDCpM26hBN4FpqB3Zl16748/Cq15nhWzd0plyUh87vYSpDC4a3kuv3fFn4Z1yYnrdMqm5WTGThXvRpFeOX3rtjj8L71Xi0pZQrV2KQyFrol2kqnnudY7fbVX9reHLXM9SavW6hfLO3HFx5cTxc9afR6/bt9IC0z3q2davKXce6xw/ZX01cejvm3IMe/d1ynS1hsc6x++3VjQc+vvDsXyodUWLeh7rHL/fuo6YVQ4RSlxT7ZWT/VdxQvc6x++2Er5iOVpn/ldOOjXXg+7gk3qGdfyctaTZpOKSV4EiC8c6upQUXk04fso6vW6pu7muuGgCcYmEqq4SO/6g7r91Wr9FSWM2/SQsG8A2KmnMEha1R5gGP1/n+Bmret0uAe9SnfUmmmhSGxRtw+exzvH7rMuwTS8u2sjeB9P9aF3rYbjXOX63ddVE6TnsRwCakELThnf5zr3O8XttvzdRtmrC9A0kQUMEgSGz/h3tCF45VZekXpx46bU7/iy8K0vrbYnc3RHrOxJxv5QY8X2d42dMj9ZfhYWu8dpOmnRHO93rHL/HLMPWyzdDxjQU00uuudygSFeVEC8C6Zpp4sprr93xJ+NFKikvVW8jIp8/Yl9NXC+b6J/P1iXLyPzA2R1/M7zrw/ZnhKfD9YhdOfmFeYZ1/CG4ff413Eb0z2WzWCcz+31Yj3WOn8d/fyEW2ITwVX5LWEqYk..."
          ]
        },
        {
          "output_type": "display_data",
          "data": {
            "text/plain": [
              "<IPython.core.display.Image object>"
            ]
          },
          "metadata": {}
        }
      ]
    }
  ]
}